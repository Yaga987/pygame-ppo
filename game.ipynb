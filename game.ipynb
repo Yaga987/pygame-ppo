{
 "cells": [
  {
   "cell_type": "code",
   "execution_count": 1,
   "metadata": {},
   "outputs": [
    {
     "name": "stdout",
     "output_type": "stream",
     "text": [
      "pygame 2.2.0 (SDL 2.0.22, Python 3.10.1)\n",
      "Hello from the pygame community. https://www.pygame.org/contribute.html\n"
     ]
    }
   ],
   "source": [
    "import pygame\n",
    "import random\n",
    "\n",
    "# Set up the game window\n",
    "WIDTH = 500\n",
    "HEIGHT = 500\n",
    "WINDOW = pygame.display.set_mode((WIDTH, HEIGHT))\n",
    "pygame.display.set_caption(\"Game\")\n",
    "\n",
    "# Define the game agents\n",
    "class Player:\n",
    "    def __init__(self, x, y):\n",
    "        self.x = x\n",
    "        self.y = y\n",
    "        self.width = 20\n",
    "        self.height = 20\n",
    "        self.color = (255, 0, 0)\n",
    "    \n",
    "    def draw(self):\n",
    "        pygame.draw.rect(WINDOW, self.color, (self.x, self.y, self.width, self.height))\n",
    "\n",
    "class Computer:\n",
    "    def __init__(self, x, y):\n",
    "        self.x = x\n",
    "        self.y = y\n",
    "        self.width = 20\n",
    "        self.height = 20\n",
    "        self.color = (0, 255, 0)\n",
    "    \n",
    "    def draw(self):\n",
    "        pygame.draw.rect(WINDOW, self.color, (self.x, self.y, self.width, self.height))\n",
    "\n",
    "# Define the game loop\n",
    "def game_loop():\n",
    "    player = Player(50, 50)\n",
    "    computer = Computer(400, 400)\n",
    "    game_running = True\n",
    "    \n",
    "    while game_running:\n",
    "        # Handle user input\n",
    "        for event in pygame.event.get():\n",
    "            if event.type == pygame.QUIT:\n",
    "                game_running = False\n",
    "        \n",
    "        # Update game state\n",
    "        computer.x += random.randint(-1, 1)\n",
    "        computer.y += random.randint(-1, 1)\n",
    "        \n",
    "        # Render game\n",
    "        WINDOW.fill((255, 255, 255))\n",
    "        player.draw()\n",
    "        computer.draw()\n",
    "        pygame.display.update()\n",
    "    \n",
    "    pygame.quit()\n",
    "\n",
    "# Run the game\n",
    "if __name__ == '__main__':\n",
    "    pygame.init()\n",
    "    game_loop()"
   ]
  }
 ],
 "metadata": {
  "kernelspec": {
   "display_name": "Python 3",
   "language": "python",
   "name": "python3"
  },
  "language_info": {
   "codemirror_mode": {
    "name": "ipython",
    "version": 3
   },
   "file_extension": ".py",
   "mimetype": "text/x-python",
   "name": "python",
   "nbconvert_exporter": "python",
   "pygments_lexer": "ipython3",
   "version": "3.10.1"
  },
  "orig_nbformat": 4
 },
 "nbformat": 4,
 "nbformat_minor": 2
}
