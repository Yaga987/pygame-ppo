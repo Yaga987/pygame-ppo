{
 "cells": [
  {
   "cell_type": "code",
   "execution_count": null,
   "metadata": {},
   "outputs": [],
   "source": [
    "import gym\n",
    "from stable_baselines3 import PPO\n",
    "\n",
    "env = gym.make('CartPole-v0')  # create the environment\n",
    "\n",
    "model = PPO('MlpPolicy', env, verbose=1)  # create the PPO agent\n",
    "\n",
    "model.learn(total_timesteps=10000)  # train the agent for 10000 timesteps\n",
    "\n",
    "obs = env.reset()  # reset the environment\n",
    "for i in range(100):\n",
    "    action, _ = model.predict(obs, deterministic=True)  # get the action from the agent\n",
    "    obs, reward, done, info = env.step(action)  # take the action in the environment\n",
    "    env.render()  # render the environment\n",
    "    if done:  # check if the game is over\n",
    "        obs = env.reset()  # reset the environment"
   ]
  }
 ],
 "metadata": {
  "kernelspec": {
   "display_name": "Python 3",
   "language": "python",
   "name": "python3"
  },
  "language_info": {
   "codemirror_mode": {
    "name": "ipython",
    "version": 3
   },
   "file_extension": ".py",
   "mimetype": "text/x-python",
   "name": "python",
   "nbconvert_exporter": "python",
   "pygments_lexer": "ipython3",
   "version": "3.10.1"
  },
  "orig_nbformat": 4
 },
 "nbformat": 4,
 "nbformat_minor": 2
}
